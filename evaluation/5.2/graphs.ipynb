{
 "cells": [
  {
   "cell_type": "code",
   "execution_count": 2,
   "metadata": {},
   "outputs": [],
   "source": [
    "import pandas as pd\n",
    "import numpy as np\n",
    "import matplotlib.pyplot as plt\n",
    "from datetime import datetime\n",
    "import math\n"
   ]
  },
  {
   "cell_type": "markdown",
   "metadata": {},
   "source": [
    "# Expected:"
   ]
  },
  {
   "cell_type": "code",
   "execution_count": 50,
   "metadata": {},
   "outputs": [
    {
     "data": {
      "text/html": [
       "<div>\n",
       "<style scoped>\n",
       "    .dataframe tbody tr th:only-of-type {\n",
       "        vertical-align: middle;\n",
       "    }\n",
       "\n",
       "    .dataframe tbody tr th {\n",
       "        vertical-align: top;\n",
       "    }\n",
       "\n",
       "    .dataframe thead th {\n",
       "        text-align: right;\n",
       "    }\n",
       "</style>\n",
       "<table border=\"1\" class=\"dataframe\">\n",
       "  <thead>\n",
       "    <tr style=\"text-align: right;\">\n",
       "      <th></th>\n",
       "      <th>MESS_DATUM</th>\n",
       "      <th>GS_10</th>\n",
       "      <th>Watt_10min</th>\n",
       "    </tr>\n",
       "  </thead>\n",
       "  <tbody>\n",
       "    <tr>\n",
       "      <th>0</th>\n",
       "      <td>2020-01-01 00:00:00</td>\n",
       "      <td>0.0</td>\n",
       "      <td>0.0</td>\n",
       "    </tr>\n",
       "    <tr>\n",
       "      <th>1</th>\n",
       "      <td>2020-01-01 00:10:00</td>\n",
       "      <td>0.0</td>\n",
       "      <td>0.0</td>\n",
       "    </tr>\n",
       "    <tr>\n",
       "      <th>2</th>\n",
       "      <td>2020-01-01 00:20:00</td>\n",
       "      <td>0.0</td>\n",
       "      <td>0.0</td>\n",
       "    </tr>\n",
       "    <tr>\n",
       "      <th>3</th>\n",
       "      <td>2020-01-01 00:30:00</td>\n",
       "      <td>0.0</td>\n",
       "      <td>0.0</td>\n",
       "    </tr>\n",
       "    <tr>\n",
       "      <th>4</th>\n",
       "      <td>2020-01-01 00:40:00</td>\n",
       "      <td>0.0</td>\n",
       "      <td>0.0</td>\n",
       "    </tr>\n",
       "  </tbody>\n",
       "</table>\n",
       "</div>"
      ],
      "text/plain": [
       "           MESS_DATUM  GS_10  Watt_10min\n",
       "0 2020-01-01 00:00:00    0.0         0.0\n",
       "1 2020-01-01 00:10:00    0.0         0.0\n",
       "2 2020-01-01 00:20:00    0.0         0.0\n",
       "3 2020-01-01 00:30:00    0.0         0.0\n",
       "4 2020-01-01 00:40:00    0.0         0.0"
      ]
     },
     "execution_count": 50,
     "metadata": {},
     "output_type": "execute_result"
    }
   ],
   "source": [
    "# Solar\n",
    "\n",
    "# Extract & Transform\n",
    "df = pd.read_csv('../../data/produkt_zehn_min_sd_20200101_20201231_05705.txt', delimiter = \";\")\n",
    "\n",
    "# Remove unneccesary columns\n",
    "df.drop(['STATIONS_ID', '  QN', 'DS_10', 'SD_10', 'LS_10', 'eor'], axis = 1, inplace = True)\n",
    "\n",
    "# / 1000 to convert from J/cm² to kJ/cm² then * 2.78 to convert to kWh/m², then * 50m^2 and * 6000 to convert to W/10 Min/m²) \n",
    "df['Watt_10min'] =  df['GS_10'] / 1000 * 2.78 * 50 * 6000 * 0.2\n",
    "\n",
    "df['MESS_DATUM'] = pd.to_datetime(df['MESS_DATUM'], format='%Y%m%d%H%M')\n",
    "\n",
    "solar = df\n",
    "\n",
    "solar.head()"
   ]
  },
  {
   "cell_type": "code",
   "execution_count": 55,
   "metadata": {},
   "outputs": [
    {
     "data": {
      "text/html": [
       "<div>\n",
       "<style scoped>\n",
       "    .dataframe tbody tr th:only-of-type {\n",
       "        vertical-align: middle;\n",
       "    }\n",
       "\n",
       "    .dataframe tbody tr th {\n",
       "        vertical-align: top;\n",
       "    }\n",
       "\n",
       "    .dataframe thead th {\n",
       "        text-align: right;\n",
       "    }\n",
       "</style>\n",
       "<table border=\"1\" class=\"dataframe\">\n",
       "  <thead>\n",
       "    <tr style=\"text-align: right;\">\n",
       "      <th></th>\n",
       "      <th>MESS_DATUM</th>\n",
       "      <th>FF_10</th>\n",
       "      <th>Watt_10min</th>\n",
       "    </tr>\n",
       "  </thead>\n",
       "  <tbody>\n",
       "    <tr>\n",
       "      <th>0</th>\n",
       "      <td>2020-01-01 00:00:00</td>\n",
       "      <td>0.8</td>\n",
       "      <td>12.551090</td>\n",
       "    </tr>\n",
       "    <tr>\n",
       "      <th>1</th>\n",
       "      <td>2020-01-01 00:10:00</td>\n",
       "      <td>0.6</td>\n",
       "      <td>5.294991</td>\n",
       "    </tr>\n",
       "    <tr>\n",
       "      <th>2</th>\n",
       "      <td>2020-01-01 00:20:00</td>\n",
       "      <td>0.9</td>\n",
       "      <td>17.870595</td>\n",
       "    </tr>\n",
       "    <tr>\n",
       "      <th>3</th>\n",
       "      <td>2020-01-01 00:30:00</td>\n",
       "      <td>0.8</td>\n",
       "      <td>12.551090</td>\n",
       "    </tr>\n",
       "    <tr>\n",
       "      <th>4</th>\n",
       "      <td>2020-01-01 00:40:00</td>\n",
       "      <td>1.6</td>\n",
       "      <td>100.408719</td>\n",
       "    </tr>\n",
       "  </tbody>\n",
       "</table>\n",
       "</div>"
      ],
      "text/plain": [
       "           MESS_DATUM  FF_10  Watt_10min\n",
       "0 2020-01-01 00:00:00    0.8   12.551090\n",
       "1 2020-01-01 00:10:00    0.6    5.294991\n",
       "2 2020-01-01 00:20:00    0.9   17.870595\n",
       "3 2020-01-01 00:30:00    0.8   12.551090\n",
       "4 2020-01-01 00:40:00    1.6  100.408719"
      ]
     },
     "execution_count": 55,
     "metadata": {},
     "output_type": "execute_result"
    }
   ],
   "source": [
    "# Wind\n",
    "df = pd.read_csv('../../data/produkt_zehn_min_ff_20200101_20201231_05705.txt', delimiter = \";\")\n",
    "\n",
    "# Remove unneccesary columns\n",
    "df.drop(['STATIONS_ID', '  QN', 'DD_10', 'eor'], axis = 1, inplace = True)\n",
    "\n",
    "# Calculate 10 Min Output\n",
    "df['Watt_10min'] =  math.pi / 2 * 5.1**2 * df['FF_10']**3 * 1.2 * 0.5\n",
    "# set ceiling\n",
    "df['Watt_10min'].values[df['Watt_10min'] > 9999] = 10000\n",
    "\n",
    "df['MESS_DATUM'] = pd.to_datetime(df['MESS_DATUM'], format='%Y%m%d%H%M')\n",
    "\n",
    "wind = df\n",
    "wind.head()\n"
   ]
  },
  {
   "cell_type": "code",
   "execution_count": 6,
   "metadata": {},
   "outputs": [
    {
     "data": {
      "text/html": [
       "<div>\n",
       "<style scoped>\n",
       "    .dataframe tbody tr th:only-of-type {\n",
       "        vertical-align: middle;\n",
       "    }\n",
       "\n",
       "    .dataframe tbody tr th {\n",
       "        vertical-align: top;\n",
       "    }\n",
       "\n",
       "    .dataframe thead th {\n",
       "        text-align: right;\n",
       "    }\n",
       "</style>\n",
       "<table border=\"1\" class=\"dataframe\">\n",
       "  <thead>\n",
       "    <tr style=\"text-align: right;\">\n",
       "      <th></th>\n",
       "      <th>MESS_DATUM</th>\n",
       "      <th>GS_10</th>\n",
       "      <th>Watt_10min</th>\n",
       "    </tr>\n",
       "  </thead>\n",
       "  <tbody>\n",
       "    <tr>\n",
       "      <th>0</th>\n",
       "      <td>2020-01-01 00:00:00</td>\n",
       "      <td>0.0</td>\n",
       "      <td>7.530654</td>\n",
       "    </tr>\n",
       "    <tr>\n",
       "      <th>1</th>\n",
       "      <td>2020-01-01 00:10:00</td>\n",
       "      <td>0.0</td>\n",
       "      <td>3.176995</td>\n",
       "    </tr>\n",
       "    <tr>\n",
       "      <th>2</th>\n",
       "      <td>2020-01-01 00:20:00</td>\n",
       "      <td>0.0</td>\n",
       "      <td>10.722357</td>\n",
       "    </tr>\n",
       "    <tr>\n",
       "      <th>3</th>\n",
       "      <td>2020-01-01 00:30:00</td>\n",
       "      <td>0.0</td>\n",
       "      <td>7.530654</td>\n",
       "    </tr>\n",
       "    <tr>\n",
       "      <th>4</th>\n",
       "      <td>2020-01-01 00:40:00</td>\n",
       "      <td>0.0</td>\n",
       "      <td>60.245232</td>\n",
       "    </tr>\n",
       "  </tbody>\n",
       "</table>\n",
       "</div>"
      ],
      "text/plain": [
       "           MESS_DATUM  GS_10  Watt_10min\n",
       "0 2020-01-01 00:00:00    0.0    7.530654\n",
       "1 2020-01-01 00:10:00    0.0    3.176995\n",
       "2 2020-01-01 00:20:00    0.0   10.722357\n",
       "3 2020-01-01 00:30:00    0.0    7.530654\n",
       "4 2020-01-01 00:40:00    0.0   60.245232"
      ]
     },
     "execution_count": 6,
     "metadata": {},
     "output_type": "execute_result"
    }
   ],
   "source": [
    "# Mixed\n",
    "mixed = solar\n",
    "mixed['Watt_10min'] = solar['Watt_10min']*0.6 + wind['Watt_10min']*0.6\n",
    "\n",
    "df = mixed\n",
    "mixed.head()"
   ]
  },
  {
   "cell_type": "code",
   "execution_count": 56,
   "metadata": {},
   "outputs": [
    {
     "data": {
      "text/html": [
       "<div>\n",
       "<style scoped>\n",
       "    .dataframe tbody tr th:only-of-type {\n",
       "        vertical-align: middle;\n",
       "    }\n",
       "\n",
       "    .dataframe tbody tr th {\n",
       "        vertical-align: top;\n",
       "    }\n",
       "\n",
       "    .dataframe thead th {\n",
       "        text-align: right;\n",
       "    }\n",
       "</style>\n",
       "<table border=\"1\" class=\"dataframe\">\n",
       "  <thead>\n",
       "    <tr style=\"text-align: right;\">\n",
       "      <th></th>\n",
       "      <th>MESS_DATUM</th>\n",
       "      <th>FF_10</th>\n",
       "      <th>Watt_10min</th>\n",
       "    </tr>\n",
       "  </thead>\n",
       "  <tbody>\n",
       "    <tr>\n",
       "      <th>22027</th>\n",
       "      <td>2020-06-01 23:10:00</td>\n",
       "      <td>1.5</td>\n",
       "      <td>82.734235</td>\n",
       "    </tr>\n",
       "    <tr>\n",
       "      <th>22028</th>\n",
       "      <td>2020-06-01 23:20:00</td>\n",
       "      <td>1.8</td>\n",
       "      <td>142.964758</td>\n",
       "    </tr>\n",
       "    <tr>\n",
       "      <th>22029</th>\n",
       "      <td>2020-06-01 23:30:00</td>\n",
       "      <td>2.0</td>\n",
       "      <td>196.110780</td>\n",
       "    </tr>\n",
       "    <tr>\n",
       "      <th>22030</th>\n",
       "      <td>2020-06-01 23:40:00</td>\n",
       "      <td>2.0</td>\n",
       "      <td>196.110780</td>\n",
       "    </tr>\n",
       "    <tr>\n",
       "      <th>22031</th>\n",
       "      <td>2020-06-01 23:50:00</td>\n",
       "      <td>2.1</td>\n",
       "      <td>227.022741</td>\n",
       "    </tr>\n",
       "  </tbody>\n",
       "</table>\n",
       "</div>"
      ],
      "text/plain": [
       "               MESS_DATUM  FF_10  Watt_10min\n",
       "22027 2020-06-01 23:10:00    1.5   82.734235\n",
       "22028 2020-06-01 23:20:00    1.8  142.964758\n",
       "22029 2020-06-01 23:30:00    2.0  196.110780\n",
       "22030 2020-06-01 23:40:00    2.0  196.110780\n",
       "22031 2020-06-01 23:50:00    2.1  227.022741"
      ]
     },
     "execution_count": 56,
     "metadata": {},
     "output_type": "execute_result"
    }
   ],
   "source": [
    "# Filter\n",
    "start_date = '2020-06-01 17:00:00'\n",
    "end_date = '2020-06-02 00:00:00'\n",
    "\n",
    "mask = (df['MESS_DATUM'] >= start_date) & (df['MESS_DATUM'] < end_date)\n",
    "\n",
    "selected_dates = df.loc[mask]\n",
    "\n",
    "#selected_dates.set_index('MESS_DATUM')\n",
    "\n",
    "selected_dates.tail()"
   ]
  },
  {
   "cell_type": "code",
   "execution_count": 57,
   "metadata": {},
   "outputs": [
    {
     "data": {
      "text/plain": [
       "Text(0, 0.5, 'Watt')"
      ]
     },
     "execution_count": 57,
     "metadata": {},
     "output_type": "execute_result"
    },
    {
     "data": {
      "image/png": "[encoded data removed]",
      "text/plain": [
       "<Figure size 432x288 with 1 Axes>"
      ]
     },
     "metadata": {
      "needs_background": "light"
     },
     "output_type": "display_data"
    }
   ],
   "source": [
    "ax = selected_dates.plot(lw=2, colormap='jet', marker='.', markersize=5, title='Wind Output', figsize=(6, 4), x='MESS_DATUM', y='Watt_10min')\n",
    "ax.set_xlabel(\"Time\")\n",
    "ax.set_ylabel(\"Watt\")"
   ]
  },
  {
   "cell_type": "markdown",
   "metadata": {},
   "source": [
    "# Evaluation:"
   ]
  },
  {
   "cell_type": "code",
   "execution_count": 6,
   "metadata": {},
   "outputs": [
    {
     "data": {
      "text/plain": [
       "Text(0, 0.5, 'Watt')"
      ]
     },
     "execution_count": 6,
     "metadata": {},
     "output_type": "execute_result"
    },
    {
     "data": {
      "image/png": "[encoded data removed]",
      "text/plain": [
       "<Figure size 432x288 with 1 Axes>"
      ]
     },
     "metadata": {
      "needs_background": "light"
     },
     "output_type": "display_data"
    }
   ],
   "source": [
    "#read input file\n",
    "fin = open(\"evaluation.log\", \"rt\")\n",
    "#read file contents to string\n",
    "data = fin.read()\n",
    "#replace all occurrences of the required string\n",
    "data = data.replace(' Node ', ';').replace(' has a mixed share of: ', ';').replace(' has a solar share of: ', ';').replace(' has a wind share of: ', ';')\n",
    "\n",
    "fin.close()\n",
    "#open the input file in write mode\n",
    "fin = open(\"evaluationprepared.txt\", \"wt\")\n",
    "#overrite the input file with the resulting data\n",
    "fin.write(data)\n",
    "#close the file\n",
    "fin.close()\n",
    "\n",
    "df = pd.read_csv('evaluationprepared.txt', delimiter = \";\", names=[\"ts\", \"node\", \"Watt_10min\", \"1h\", \"4h\", \"12h\", \"24h\"])\n",
    "df['ts'] = pd.to_datetime(df['ts'])\n",
    "\n",
    "mask = (df['node'] == 'ip-172-20-59-208.ec2.internal')\n",
    "\n",
    "selected_node = df.loc[mask]\n",
    "\n",
    "\n",
    "ax = selected_node.plot(lw=2, colormap='jet', marker='.', markersize=5, title='ip-172-20-59-208.ec2.internal', figsize=(6, 4), x='ts', y='Watt_10min')\n",
    "ax.set_xlabel(\"Time\")\n",
    "ax.set_ylabel(\"Watt\")\n",
    "\n",
    "\n",
    "\n"
   ]
  }
 ],
 "metadata": {
  "interpreter": {
   "hash": "31f2aee4e71d21fbe5cf8b01ff0e069b9275f58929596ceb00d14d90e3e16cd6"
  },
  "kernelspec": {
   "display_name": "Python 3.8.2 64-bit",
   "language": "python",
   "name": "python3"
  },
  "language_info": {
   "codemirror_mode": {
    "name": "ipython",
    "version": 3
   },
   "file_extension": ".py",
   "mimetype": "text/x-python",
   "name": "python",
   "nbconvert_exporter": "python",
   "pygments_lexer": "ipython3",
   "version": "3.8.2"
  },
  "orig_nbformat": 4
 },
 "nbformat": 4,
 "nbformat_minor": 2
}
