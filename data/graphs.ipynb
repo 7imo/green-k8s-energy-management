{
 "cells": [
  {
   "cell_type": "code",
   "execution_count": 374,
   "metadata": {},
   "outputs": [],
   "source": [
    "import pandas as pd\n",
    "import numpy as np\n",
    "import matplotlib.pyplot as plt\n",
    "from datetime import datetime\n",
    "import math\n"
   ]
  },
  {
   "cell_type": "markdown",
   "metadata": {},
   "source": [
    "# Expected:"
   ]
  },
  {
   "cell_type": "code",
   "execution_count": 6,
   "metadata": {},
   "outputs": [
    {
     "ename": "NameError",
     "evalue": "name 'pd' is not defined",
     "output_type": "error",
     "traceback": [
      "\u001b[0;31m---------------------------------------------------------------------------\u001b[0m",
      "\u001b[0;31mNameError\u001b[0m                                 Traceback (most recent call last)",
      "\u001b[0;32m/var/folders/gs/h80_bj616mgg508blnhtynjr0000gn/T/ipykernel_10742/896222742.py\u001b[0m in \u001b[0;36m<module>\u001b[0;34m\u001b[0m\n\u001b[1;32m      2\u001b[0m \u001b[0;34m\u001b[0m\u001b[0m\n\u001b[1;32m      3\u001b[0m \u001b[0;31m# Extract & Transform\u001b[0m\u001b[0;34m\u001b[0m\u001b[0;34m\u001b[0m\u001b[0;34m\u001b[0m\u001b[0m\n\u001b[0;32m----> 4\u001b[0;31m \u001b[0mdf\u001b[0m \u001b[0;34m=\u001b[0m \u001b[0mpd\u001b[0m\u001b[0;34m.\u001b[0m\u001b[0mread_csv\u001b[0m\u001b[0;34m(\u001b[0m\u001b[0;34m'data/produkt_zehn_min_sd_20200101_20201231_05705.txt'\u001b[0m\u001b[0;34m,\u001b[0m \u001b[0mdelimiter\u001b[0m \u001b[0;34m=\u001b[0m \u001b[0;34m\";\"\u001b[0m\u001b[0;34m)\u001b[0m\u001b[0;34m\u001b[0m\u001b[0;34m\u001b[0m\u001b[0m\n\u001b[0m\u001b[1;32m      5\u001b[0m \u001b[0;34m\u001b[0m\u001b[0m\n\u001b[1;32m      6\u001b[0m \u001b[0;31m# Remove unneccesary columns\u001b[0m\u001b[0;34m\u001b[0m\u001b[0;34m\u001b[0m\u001b[0;34m\u001b[0m\u001b[0m\n",
      "\u001b[0;31mNameError\u001b[0m: name 'pd' is not defined"
     ]
    }
   ],
   "source": [
    "# Solar\n",
    "\n",
    "# Extract & Transform\n",
    "df = pd.read_csv('../data/produkt_zehn_min_sd_20200101_20201231_05705.txt', delimiter = \";\")\n",
    "\n",
    "# Remove unneccesary columns\n",
    "df.drop(['STATIONS_ID', '  QN', 'DS_10', 'SD_10', 'LS_10', 'eor'], axis = 1, inplace = True)\n",
    "\n",
    "# / 1000 to convert from J/cm² to kJ/cm² then * 2.78 to convert to kWh/m², then * 50m^2 and * 6000 to convert to W/10 Min/m²) \n",
    "df['Watt_10min'] =  df['GS_10'] / 1000 * 2.78 * 50 * 6000 * 0.2\n",
    "\n",
    "df['MESS_DATUM'] = pd.to_datetime(df['MESS_DATUM'], format='%Y%m%d%H%M')\n",
    "\n",
    "solar = df\n",
    "\n",
    "solar.head()"
   ]
  },
  {
   "cell_type": "code",
   "execution_count": 3,
   "metadata": {},
   "outputs": [
    {
     "ename": "NameError",
     "evalue": "name 'pd' is not defined",
     "output_type": "error",
     "traceback": [
      "\u001b[0;31m---------------------------------------------------------------------------\u001b[0m",
      "\u001b[0;31mNameError\u001b[0m                                 Traceback (most recent call last)",
      "\u001b[0;32m/var/folders/gs/h80_bj616mgg508blnhtynjr0000gn/T/ipykernel_10742/3593186454.py\u001b[0m in \u001b[0;36m<module>\u001b[0;34m\u001b[0m\n\u001b[1;32m      1\u001b[0m \u001b[0;31m# Wind\u001b[0m\u001b[0;34m\u001b[0m\u001b[0;34m\u001b[0m\u001b[0;34m\u001b[0m\u001b[0m\n\u001b[0;32m----> 2\u001b[0;31m \u001b[0mdf\u001b[0m \u001b[0;34m=\u001b[0m \u001b[0mpd\u001b[0m\u001b[0;34m.\u001b[0m\u001b[0mread_csv\u001b[0m\u001b[0;34m(\u001b[0m\u001b[0;34m'../data/produkt_zehn_min_ff_20200101_20201231_05705.txt'\u001b[0m\u001b[0;34m,\u001b[0m \u001b[0mdelimiter\u001b[0m \u001b[0;34m=\u001b[0m \u001b[0;34m\";\"\u001b[0m\u001b[0;34m)\u001b[0m\u001b[0;34m\u001b[0m\u001b[0;34m\u001b[0m\u001b[0m\n\u001b[0m\u001b[1;32m      3\u001b[0m \u001b[0;34m\u001b[0m\u001b[0m\n\u001b[1;32m      4\u001b[0m \u001b[0;31m# Remove unneccesary columns\u001b[0m\u001b[0;34m\u001b[0m\u001b[0;34m\u001b[0m\u001b[0;34m\u001b[0m\u001b[0m\n\u001b[1;32m      5\u001b[0m \u001b[0mdf\u001b[0m\u001b[0;34m.\u001b[0m\u001b[0mdrop\u001b[0m\u001b[0;34m(\u001b[0m\u001b[0;34m[\u001b[0m\u001b[0;34m'STATIONS_ID'\u001b[0m\u001b[0;34m,\u001b[0m \u001b[0;34m'  QN'\u001b[0m\u001b[0;34m,\u001b[0m \u001b[0;34m'DD_10'\u001b[0m\u001b[0;34m,\u001b[0m \u001b[0;34m'eor'\u001b[0m\u001b[0;34m]\u001b[0m\u001b[0;34m,\u001b[0m \u001b[0maxis\u001b[0m \u001b[0;34m=\u001b[0m \u001b[0;36m1\u001b[0m\u001b[0;34m,\u001b[0m \u001b[0minplace\u001b[0m \u001b[0;34m=\u001b[0m \u001b[0;32mTrue\u001b[0m\u001b[0;34m)\u001b[0m\u001b[0;34m\u001b[0m\u001b[0;34m\u001b[0m\u001b[0m\n",
      "\u001b[0;31mNameError\u001b[0m: name 'pd' is not defined"
     ]
    }
   ],
   "source": [
    "# Wind\n",
    "df = pd.read_csv('../data/produkt_zehn_min_ff_20200101_20201231_05705.txt', delimiter = \";\")\n",
    "\n",
    "# Remove unneccesary columns\n",
    "df.drop(['STATIONS_ID', '  QN', 'DD_10', 'eor'], axis = 1, inplace = True)\n",
    "\n",
    "# Calculate 10 Min Output\n",
    "df['Watt_10min'] =  math.pi / 2 * 5.1**2 * df['FF_10']**3 * 1.2 * 0.5\n",
    "# set ceiling\n",
    "df['Watt_10min'].values[df['Watt_10min'] > 9999] = 10000\n",
    "\n",
    "df['MESS_DATUM'] = pd.to_datetime(df['MESS_DATUM'], format='%Y%m%d%H%M')\n",
    "\n",
    "wind = df\n",
    "wind.head()\n"
   ]
  },
  {
   "cell_type": "code",
   "execution_count": 191,
   "metadata": {},
   "outputs": [
    {
     "data": {
      "text/html": [
       "<div>\n",
       "<style scoped>\n",
       "    .dataframe tbody tr th:only-of-type {\n",
       "        vertical-align: middle;\n",
       "    }\n",
       "\n",
       "    .dataframe tbody tr th {\n",
       "        vertical-align: top;\n",
       "    }\n",
       "\n",
       "    .dataframe thead th {\n",
       "        text-align: right;\n",
       "    }\n",
       "</style>\n",
       "<table border=\"1\" class=\"dataframe\">\n",
       "  <thead>\n",
       "    <tr style=\"text-align: right;\">\n",
       "      <th></th>\n",
       "      <th>MESS_DATUM</th>\n",
       "      <th>GS_10</th>\n",
       "      <th>Watt_10min</th>\n",
       "    </tr>\n",
       "  </thead>\n",
       "  <tbody>\n",
       "    <tr>\n",
       "      <th>0</th>\n",
       "      <td>2020-01-01 00:00:00</td>\n",
       "      <td>0.0</td>\n",
       "      <td>7.530654</td>\n",
       "    </tr>\n",
       "    <tr>\n",
       "      <th>1</th>\n",
       "      <td>2020-01-01 00:10:00</td>\n",
       "      <td>0.0</td>\n",
       "      <td>3.176995</td>\n",
       "    </tr>\n",
       "    <tr>\n",
       "      <th>2</th>\n",
       "      <td>2020-01-01 00:20:00</td>\n",
       "      <td>0.0</td>\n",
       "      <td>10.722357</td>\n",
       "    </tr>\n",
       "    <tr>\n",
       "      <th>3</th>\n",
       "      <td>2020-01-01 00:30:00</td>\n",
       "      <td>0.0</td>\n",
       "      <td>7.530654</td>\n",
       "    </tr>\n",
       "    <tr>\n",
       "      <th>4</th>\n",
       "      <td>2020-01-01 00:40:00</td>\n",
       "      <td>0.0</td>\n",
       "      <td>60.245232</td>\n",
       "    </tr>\n",
       "  </tbody>\n",
       "</table>\n",
       "</div>"
      ],
      "text/plain": [
       "           MESS_DATUM  GS_10  Watt_10min\n",
       "0 2020-01-01 00:00:00    0.0    7.530654\n",
       "1 2020-01-01 00:10:00    0.0    3.176995\n",
       "2 2020-01-01 00:20:00    0.0   10.722357\n",
       "3 2020-01-01 00:30:00    0.0    7.530654\n",
       "4 2020-01-01 00:40:00    0.0   60.245232"
      ]
     },
     "execution_count": 191,
     "metadata": {},
     "output_type": "execute_result"
    }
   ],
   "source": [
    "# Mixed\n",
    "mixed = solar\n",
    "mixed['Watt_10min'] = solar['Watt_10min']*0.6 + wind['Watt_10min']*0.6\n",
    "\n",
    "df = mixed\n",
    "mixed.head()"
   ]
  },
  {
   "cell_type": "code",
   "execution_count": 449,
   "metadata": {},
   "outputs": [
    {
     "data": {
      "text/html": [
       "<div>\n",
       "<style scoped>\n",
       "    .dataframe tbody tr th:only-of-type {\n",
       "        vertical-align: middle;\n",
       "    }\n",
       "\n",
       "    .dataframe tbody tr th {\n",
       "        vertical-align: top;\n",
       "    }\n",
       "\n",
       "    .dataframe thead th {\n",
       "        text-align: right;\n",
       "    }\n",
       "</style>\n",
       "<table border=\"1\" class=\"dataframe\">\n",
       "  <thead>\n",
       "    <tr style=\"text-align: right;\">\n",
       "      <th></th>\n",
       "      <th>MESS_DATUM</th>\n",
       "      <th>GS_10</th>\n",
       "      <th>Watt_10min</th>\n",
       "    </tr>\n",
       "  </thead>\n",
       "  <tbody>\n",
       "    <tr>\n",
       "      <th>28260</th>\n",
       "      <td>2020-07-15 06:00:00</td>\n",
       "      <td>1.8</td>\n",
       "      <td>300.24</td>\n",
       "    </tr>\n",
       "    <tr>\n",
       "      <th>28261</th>\n",
       "      <td>2020-07-15 06:10:00</td>\n",
       "      <td>2.7</td>\n",
       "      <td>450.36</td>\n",
       "    </tr>\n",
       "    <tr>\n",
       "      <th>28262</th>\n",
       "      <td>2020-07-15 06:20:00</td>\n",
       "      <td>3.5</td>\n",
       "      <td>583.80</td>\n",
       "    </tr>\n",
       "    <tr>\n",
       "      <th>28263</th>\n",
       "      <td>2020-07-15 06:30:00</td>\n",
       "      <td>4.5</td>\n",
       "      <td>750.60</td>\n",
       "    </tr>\n",
       "    <tr>\n",
       "      <th>28264</th>\n",
       "      <td>2020-07-15 06:40:00</td>\n",
       "      <td>6.0</td>\n",
       "      <td>1000.80</td>\n",
       "    </tr>\n",
       "  </tbody>\n",
       "</table>\n",
       "</div>"
      ],
      "text/plain": [
       "               MESS_DATUM  GS_10  Watt_10min\n",
       "28260 2020-07-15 06:00:00    1.8      300.24\n",
       "28261 2020-07-15 06:10:00    2.7      450.36\n",
       "28262 2020-07-15 06:20:00    3.5      583.80\n",
       "28263 2020-07-15 06:30:00    4.5      750.60\n",
       "28264 2020-07-15 06:40:00    6.0     1000.80"
      ]
     },
     "execution_count": 449,
     "metadata": {},
     "output_type": "execute_result"
    }
   ],
   "source": [
    "# Filter\n",
    "start_date = '2020-07-15 06:00:00'\n",
    "end_date = '2020-07-15 22:00:00'\n",
    "\n",
    "mask = (df['MESS_DATUM'] >= start_date) & (df['MESS_DATUM'] < end_date)\n",
    "\n",
    "selected_dates = df.loc[mask]\n",
    "\n",
    "#selected_dates.set_index('MESS_DATUM')\n",
    "\n",
    "selected_dates.head()"
   ]
  },
  {
   "cell_type": "code",
   "execution_count": 450,
   "metadata": {},
   "outputs": [
    {
     "data": {
      "text/plain": [
       "Text(0, 0.5, 'Watt')"
      ]
     },
     "execution_count": 450,
     "metadata": {},
     "output_type": "execute_result"
    },
    {
     "data": {
      "image/png": "[encoded data removed]",
      "text/plain": [
       "<Figure size 432x288 with 1 Axes>"
      ]
     },
     "metadata": {
      "needs_background": "light"
     },
     "output_type": "display_data"
    }
   ],
   "source": [
    "ax = selected_dates.plot(lw=2, colormap='jet', marker='.', markersize=5, title='Solar Output', figsize=(6, 4), x='MESS_DATUM', y='Watt_10min')\n",
    "ax.set_xlabel(\"Time\")\n",
    "ax.set_ylabel(\"Watt\")"
   ]
  },
  {
   "cell_type": "markdown",
   "metadata": {},
   "source": [
    "# Evaluation:"
   ]
  },
  {
   "cell_type": "code",
   "execution_count": 66,
   "metadata": {},
   "outputs": [
    {
     "data": {
      "text/plain": [
       "Text(0, 0.5, 'Watt')"
      ]
     },
     "execution_count": 66,
     "metadata": {},
     "output_type": "execute_result"
    },
    {
     "data": {
      "image/png": "[encoded data removed]",
      "text/plain": [
       "<Figure size 432x288 with 1 Axes>"
      ]
     },
     "metadata": {
      "needs_background": "light"
     },
     "output_type": "display_data"
    }
   ],
   "source": [
    "#read input file\n",
    "fin = open(\"evaluation.log\", \"rt\")\n",
    "#read file contents to string\n",
    "data = fin.read()\n",
    "#replace all occurrences of the required string\n",
    "data = data.replace(' Node ', ';').replace(' has a mixed share of: ', ';').replace(' has a solar share of: ', ';').replace(' has a wind share of: ', ';')\n",
    "\n",
    "fin.close()\n",
    "#open the input file in write mode\n",
    "fin = open(\"evaluationprepared.txt\", \"wt\")\n",
    "#overrite the input file with the resulting data\n",
    "fin.write(data)\n",
    "#close the file\n",
    "fin.close()\n",
    "\n",
    "df = pd.read_csv('evaluationprepared.txt', delimiter = \";\", names=[\"ts\", \"node\", \"Watt_10min\", \"1h\", \"4h\", \"12h\", \"24h\"])\n",
    "df['ts'] = pd.to_datetime(df['ts'])\n",
    "\n",
    "mask = (df['node'] == 'ip-172-20-40-12.ec2.internal')\n",
    "\n",
    "selected_node = df.loc[mask]\n",
    "\n",
    "\n",
    "ax = selected_node.plot(lw=2, colormap='jet', marker='.', markersize=5, title='ip-172-20-40-12.ec2.internal', figsize=(6, 4), x='ts', y='Watt_10min')\n",
    "ax.set_xlabel(\"Time\")\n",
    "ax.set_ylabel(\"Watt\")\n",
    "\n",
    "\n",
    "\n"
   ]
  }
 ],
 "metadata": {
  "interpreter": {
   "hash": "31f2aee4e71d21fbe5cf8b01ff0e069b9275f58929596ceb00d14d90e3e16cd6"
  },
  "kernelspec": {
   "display_name": "Python 3.8.2 64-bit",
   "language": "python",
   "name": "python3"
  },
  "language_info": {
   "codemirror_mode": {
    "name": "ipython",
    "version": 3
   },
   "file_extension": ".py",
   "mimetype": "text/x-python",
   "name": "python",
   "nbconvert_exporter": "python",
   "pygments_lexer": "ipython3",
   "version": "3.8.2"
  },
  "orig_nbformat": 4
 },
 "nbformat": 4,
 "nbformat_minor": 2
}
